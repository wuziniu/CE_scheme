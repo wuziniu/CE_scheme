{
 "cells": [
  {
   "cell_type": "code",
   "execution_count": 3,
   "id": "0eb77123",
   "metadata": {},
   "outputs": [],
   "source": [
    "import numpy as np\n",
    "import sys\n",
    "sys.path.append(\"/home/ubuntu/CE_scheme\")\n",
    "from Schemas.imdb.schema import gen_imdb_schema\n",
    "from Join_scheme.binning import identify_key_values"
   ]
  },
  {
   "cell_type": "code",
   "execution_count": 2,
   "id": "b3000cce",
   "metadata": {},
   "outputs": [],
   "source": [
    "schema = gen_imdb_schema(\"/home/ubuntu/data_CE/imdb/{}.csv\")"
   ]
  },
  {
   "cell_type": "code",
   "execution_count": 4,
   "id": "c0b857d0",
   "metadata": {},
   "outputs": [],
   "source": [
    "all_keys, equivalent_keys = identify_key_values(schema)"
   ]
  },
  {
   "cell_type": "code",
   "execution_count": 6,
   "id": "3739157a",
   "metadata": {},
   "outputs": [
    {
     "data": {
      "text/plain": [
       "{'kind_type.id': {'aka_title.kind_id', 'kind_type.id', 'title.kind_id'},\n",
       " 'info_type.id': {'info_type.id',\n",
       "  'movie_info.info_type_id',\n",
       "  'movie_info_idx.info_type_id',\n",
       "  'person_info.info_type_id'},\n",
       " 'title.id': {'aka_title.movie_id',\n",
       "  'cast_info.movie_id',\n",
       "  'complete_cast.movie_id',\n",
       "  'movie_companies.movie_id',\n",
       "  'movie_info.movie_id',\n",
       "  'movie_info_idx.movie_id',\n",
       "  'movie_keyword.movie_id',\n",
       "  'movie_link.linked_movie_id',\n",
       "  'movie_link.movie_id',\n",
       "  'title.id'},\n",
       " 'name.id': {'aka_name.person_id',\n",
       "  'cast_info.person_id',\n",
       "  'name.id',\n",
       "  'person_info.person_id'},\n",
       " 'char_name.id': {'cast_info.person_role_id', 'char_name.id'},\n",
       " 'role_type.id': {'cast_info.role_id', 'role_type.id'},\n",
       " 'comp_cast_type.id': {'comp_cast_type.id',\n",
       "  'complete_cast.status_id',\n",
       "  'complete_cast.subject_id'},\n",
       " 'link_type.id': {'link_type.id', 'movie_link.link_type_id'},\n",
       " 'keyword.id': {'keyword.id', 'movie_keyword.keyword_id'},\n",
       " 'company_name.id': {'company_name.id', 'movie_companies.company_id'},\n",
       " 'company_type.id': {'company_type.id', 'movie_companies.company_type_id'}}"
      ]
     },
     "execution_count": 6,
     "metadata": {},
     "output_type": "execute_result"
    }
   ],
   "source": [
    "equivalent_keys"
   ]
  },
  {
   "cell_type": "code",
   "execution_count": null,
   "id": "5d6ef363",
   "metadata": {},
   "outputs": [],
   "source": []
  }
 ],
 "metadata": {
  "kernelspec": {
   "display_name": "Python 3",
   "language": "python",
   "name": "python3"
  },
  "language_info": {
   "codemirror_mode": {
    "name": "ipython",
    "version": 3
   },
   "file_extension": ".py",
   "mimetype": "text/x-python",
   "name": "python",
   "nbconvert_exporter": "python",
   "pygments_lexer": "ipython3",
   "version": "3.7.11"
  }
 },
 "nbformat": 4,
 "nbformat_minor": 5
}
