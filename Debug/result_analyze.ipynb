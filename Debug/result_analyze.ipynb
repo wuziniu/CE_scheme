{
 "cells": [
  {
   "cell_type": "code",
   "execution_count": 1,
   "id": "467f4fbc",
   "metadata": {},
   "outputs": [],
   "source": [
    "import numpy as np\n",
    "import os\n",
    "#import matplotlib.pyplot as plt"
   ]
  },
  {
   "cell_type": "code",
   "execution_count": 2,
   "id": "a74e30fb",
   "metadata": {},
   "outputs": [],
   "source": [
    "pg_plan_time = np.load(\"/home/ubuntu/data_CE/job/planning_time_postgres.npy\")\n",
    "pg_exec_time = np.load(\"/home/ubuntu/data_CE/job/query_time_postgres.npy\")\n",
    "true_plan_time = np.load(\"/home/ubuntu/data_CE/job/planning_time_true_est.npy\")\n",
    "true_exec_time = np.load(\"/home/ubuntu/data_CE/job/query_time_true_est.npy\")\n",
    "CE_plan_time = np.load(\"/home/ubuntu/data_CE/job/planning_time_CE_scheme_est.npy\")\n",
    "CE_exec_time = np.load(\"/home/ubuntu/data_CE/job/query_time_CE_scheme_est.npy\")\n"
   ]
  },
  {
   "cell_type": "code",
   "execution_count": 14,
   "id": "9d70ad9d",
   "metadata": {},
   "outputs": [
    {
     "name": "stdout",
     "output_type": "stream",
     "text": [
      "1388.9444\n",
      "1422.9773999999998\n",
      "2814.983637414\n"
     ]
    }
   ],
   "source": [
    "with open(\"/home/ubuntu/pqo-opensource/output/results/imdb/default.txt\", \"r\") as f:\n",
    "    default = f.readlines()\n",
    "default = np.asarray([float(i)*1000 for i in default])\n",
    "\n",
    "with open(\"/home/ubuntu/pqo-opensource/output/results/imdb/plan_execution_time_4096.txt\", \"r\") as f:\n",
    "    PQO = f.readlines()\n",
    "\n",
    "with open(\"/home/ubuntu/pqo-opensource/output/results/imdb/sketch_preprocessing_4096.txt\", \"r\") as f:\n",
    "    PQO_plan_time = f.readlines()\n",
    "\n",
    "PQO = np.asarray([float(i)*1000 for i in PQO])\n",
    "PQO_plan_time = np.asarray([float(i)*1000 for i in PQO_plan_time])\n",
    "print(np.sum(default)/1000)\n",
    "print(np.sum(PQO)/1000)\n",
    "print(np.sum(PQO_plan_time)/1000)"
   ]
  },
  {
   "cell_type": "code",
   "execution_count": null,
   "id": "b28ebf0c",
   "metadata": {},
   "outputs": [],
   "source": [
    "SELECT tablename, indexname, indexdef FROM pg_indexes WHERE tablename = movie_companies;"
   ]
  },
  {
   "cell_type": "code",
   "execution_count": 3,
   "id": "5414a645",
   "metadata": {},
   "outputs": [
    {
     "name": "stdout",
     "output_type": "stream",
     "text": [
      "20.949642999999995\n",
      "2499.307118\n",
      "18.382001999999996\n",
      "357.598354\n",
      "18.708766000000004\n",
      "1272.200563\n"
     ]
    }
   ],
   "source": [
    "print(np.sum(pg_plan_time)/1000)\n",
    "print(np.sum(pg_exec_time)/1000)\n",
    "print(np.sum(true_plan_time)/1000)\n",
    "print(np.sum(true_exec_time)/1000)\n",
    "print(np.sum(CE_plan_time)/1000)\n",
    "print(np.sum(CE_exec_time)/1000)"
   ]
  },
  {
   "cell_type": "code",
   "execution_count": 7,
   "id": "7edb6edb",
   "metadata": {},
   "outputs": [
    {
     "name": "stdout",
     "output_type": "stream",
     "text": [
      "[72] [28] [55]\n",
      "54.44\n"
     ]
    }
   ],
   "source": [
    "max_idx_pg = np.where(pg_exec_time == np.max(pg_exec_time))[0]\n",
    "max_idx_true = np.where(true_exec_time == np.max(true_exec_time))[0]\n",
    "max_idx_CE = np.where(CE_exec_time == np.max(CE_exec_time))[0]\n",
    "print(max_idx_pg, max_idx_true, max_idx_CE)\n",
    "print(pg_plan_time[72])"
   ]
  },
  {
   "cell_type": "code",
   "execution_count": 4,
   "id": "28c1197a",
   "metadata": {},
   "outputs": [
    {
     "name": "stdout",
     "output_type": "stream",
     "text": [
      "449.879515\n",
      "35.836907\n",
      "108.582306\n"
     ]
    }
   ],
   "source": [
    "print(np.max(pg_exec_time)/1000)\n",
    "print(np.max(true_exec_time)/1000)\n",
    "print(np.max(CE_exec_time)/1000)"
   ]
  },
  {
   "cell_type": "code",
   "execution_count": 3,
   "id": "fae22091",
   "metadata": {},
   "outputs": [],
   "source": [
    "query_path = \"/home/ubuntu/data_CE/job/\"\n",
    "q_file_names_real = []\n",
    "for query_no in range(1, 34):\n",
    "    for suffix in ['a', 'b', 'c', 'd', 'e', 'f', 'g']:\n",
    "        file = f\"{query_no}{suffix}.sql\"\n",
    "        if file in os.listdir(query_path):\n",
    "            q_file_names_real.append(file.split(\".sql\")[0])\n",
    "            "
   ]
  },
  {
   "cell_type": "code",
   "execution_count": 7,
   "id": "6105afed",
   "metadata": {},
   "outputs": [
    {
     "name": "stdout",
     "output_type": "stream",
     "text": [
      "query0: 1a, planing time 37.427, execution time 212.439\n",
      "query1: 1b, planing time 2.829, execution time 4.266\n",
      "query2: 1c, planing time 2.766, execution time 11.761\n",
      "query3: 1d, planing time 2.661, execution time 0.557\n",
      "query4: 2a, planing time 11.439, execution time 2890.996\n",
      "query5: 2b, planing time 2.857, execution time 1656.18\n",
      "query6: 2c, planing time 2.885, execution time 1564.369\n",
      "query7: 2d, planing time 5.986, execution time 2423.105\n",
      "query8: 3a, planing time 3.595, execution time 480.181\n",
      "query9: 3b, planing time 2.151, execution time 215.97\n",
      "query10: 3c, planing time 2.258, execution time 769.763\n",
      "query11: 4a, planing time 2.895, execution time 285.148\n",
      "query12: 4b, planing time 2.487, execution time 165.916\n",
      "query13: 4c, planing time 2.565, execution time 260.946\n",
      "query14: 5a, planing time 3.094, execution time 1165.967\n",
      "query15: 5b, planing time 5.816, execution time 1171.774\n",
      "query16: 5c, planing time 3.722, execution time 1389.218\n",
      "query17: 6a, planing time 4.721, execution time 102.516\n",
      "query18: 6b, planing time 2.892, execution time 569.627\n",
      "query19: 6c, planing time 3.044, execution time 36.522\n",
      "query20: 6d, planing time 6.065, execution time 13122.023\n",
      "query21: 6e, planing time 3.267, execution time 49.658\n",
      "query22: 6f, planing time 2.604, execution time 10315.86\n",
      "query23: 7a, planing time 15.918, execution time 1887.15\n",
      "query24: 7b, planing time 10.674, execution time 446.783\n",
      "query25: 7c, planing time 11.023, execution time 19093.913\n",
      "query26: 8a, planing time 7.524, execution time 5378.429\n",
      "query27: 8b, planing time 7.009, execution time 1246.86\n",
      "query28: 8c, planing time 19.012, execution time 56563.546\n",
      "query29: 8d, planing time 10.141, execution time 23793.15\n",
      "query30: 9a, planing time 11.307, execution time 1988.005\n",
      "query31: 9b, planing time 10.82, execution time 1961.523\n",
      "query32: 9c, planing time 25.013, execution time 3324.798\n",
      "query33: 9d, planing time 24.045, execution time 27526.172\n",
      "query34: 10a, planing time 13.555, execution time 1712.415\n",
      "query35: 10b, planing time 5.245, execution time 1648.71\n",
      "query36: 10c, planing time 4.911, execution time 24309.277\n",
      "query37: 11a, planing time 18.334, execution time 178.753\n",
      "query38: 11b, planing time 13.15, execution time 50.106\n",
      "query39: 11c, planing time 18.715, execution time 965.275\n",
      "query40: 11d, planing time 22.277, execution time 682.034\n",
      "query41: 12a, planing time 23.032, execution time 1825.677\n",
      "query42: 12b, planing time 12.594, execution time 8.209\n",
      "query43: 12c, planing time 12.265, execution time 6406.439\n",
      "query44: 13a, planing time 19.381, execution time 12947.871\n",
      "query45: 13b, planing time 16.579, execution time 3841.591\n",
      "query46: 13c, planing time 19.653, execution time 3604.921\n",
      "query47: 13d, planing time 13.862, execution time 16876.359\n",
      "query48: 14a, planing time 21.878, execution time 991.42\n",
      "query49: 14b, planing time 21.744, execution time 260.842\n",
      "query50: 14c, planing time 21.582, execution time 1802.255\n",
      "query51: 15a, planing time 28.314, execution time 2362.283\n",
      "query52: 15b, planing time 22.151, execution time 82.642\n",
      "query53: 15c, planing time 21.474, execution time 2226.129\n",
      "query54: 15d, planing time 31.277, execution time 1820.494\n",
      "query55: 16a, planing time 10.999, execution time 547.996\n",
      "query56: 16b, planing time 13.477, execution time 49441.58\n",
      "query57: 16c, planing time 11.957, execution time 4347.82\n",
      "query58: 16d, planing time 11.217, execution time 3116.789\n",
      "query59: 17a, planing time 6.674, execution time 28431.766\n",
      "query60: 17b, planing time 18.805, execution time 12317.365\n",
      "query61: 17c, planing time 6.541, execution time 10951.483\n",
      "query62: 17d, planing time 6.575, execution time 12308.805\n",
      "query63: 17e, planing time 6.732, execution time 28289.834\n",
      "query64: 17f, planing time 6.302, execution time 19248.349\n",
      "query65: 18a, planing time 15.841, execution time 19872.482\n",
      "query66: 18b, planing time 6.736, execution time 1095.868\n",
      "query67: 18c, planing time 6.316, execution time 20145.564\n",
      "query68: 19a, planing time 41.846, execution time 1959.813\n",
      "query69: 19b, planing time 83.921, execution time 1212.015\n",
      "query70: 19c, planing time 33.22, execution time 23769.377\n",
      "query71: 19d, planing time 37.229, execution time 50562.292\n",
      "query72: 20a, planing time 54.44, execution time 449879.515\n",
      "query73: 20b, planing time 23.509, execution time 183122.656\n",
      "query74: 20c, planing time 21.89, execution time 195058.681\n",
      "query75: 21a, planing time 52.098, execution time 724.892\n",
      "query76: 21b, planing time 33.655, execution time 133.336\n",
      "query77: 21c, planing time 25.548, execution time 143.898\n",
      "query78: 22a, planing time 62.152, execution time 2298.822\n",
      "query79: 22b, planing time 51.987, execution time 495.476\n",
      "query80: 22c, planing time 51.981, execution time 7198.839\n",
      "query81: 22d, planing time 54.0, execution time 9838.11\n",
      "query82: 23a, planing time 50.759, execution time 649.231\n",
      "query83: 23b, planing time 52.053, execution time 417.138\n",
      "query84: 23c, planing time 55.445, execution time 1300.596\n",
      "query85: 24a, planing time 248.64, execution time 1405.701\n",
      "query86: 24b, planing time 222.475, execution time 1015.845\n",
      "query87: 25a, planing time 35.608, execution time 6768.055\n",
      "query88: 25b, planing time 46.379, execution time 668.788\n",
      "query89: 25c, planing time 44.47, execution time 13429.169\n",
      "query90: 26a, planing time 167.876, execution time 91314.148\n",
      "query91: 26b, planing time 155.626, execution time 101653.004\n",
      "query92: 26c, planing time 157.971, execution time 197572.168\n",
      "query93: 27a, planing time 222.817, execution time 195.463\n",
      "query94: 27b, planing time 240.144, execution time 207.79\n",
      "query95: 27c, planing time 137.226, execution time 240.073\n",
      "query96: 28a, planing time 527.294, execution time 149700.797\n",
      "query97: 28b, planing time 463.167, execution time 40970.967\n",
      "query98: 28c, planing time 382.945, execution time 222329.891\n",
      "query99: 29a, planing time 5119.043, execution time 3108.635\n",
      "query100: 29b, planing time 4323.628, execution time 2871.793\n",
      "query101: 29c, planing time 4378.757, execution time 233130.198\n",
      "query102: 30a, planing time 127.88, execution time 5775.807\n",
      "query103: 30b, planing time 203.787, execution time 700.706\n",
      "query104: 30c, planing time 202.765, execution time 6256.746\n",
      "query105: 31a, planing time 70.061, execution time 6664.323\n",
      "query106: 31b, planing time 145.488, execution time 1078.105\n",
      "query107: 31c, planing time 139.015, execution time 6150.203\n",
      "query108: 32a, planing time 8.459, execution time 34.224\n",
      "query109: 32b, planing time 8.099, execution time 406.451\n",
      "query110: 33a, planing time 656.158, execution time 39.929\n",
      "query111: 33b, planing time 547.822, execution time 21.223\n",
      "query112: 33c, planing time 397.653, execution time 37.735\n"
     ]
    }
   ],
   "source": [
    "for i, val in enumerate(pg_exec_time):\n",
    "    print(f\"query{i}: {q_file_names_real[i]}, planing time {pg_plan_time[i]}, execution time {val}\")"
   ]
  },
  {
   "cell_type": "code",
   "execution_count": 9,
   "id": "d5824b2f",
   "metadata": {},
   "outputs": [
    {
     "data": {
      "text/plain": [
       "(array([72]),)"
      ]
     },
     "execution_count": 9,
     "metadata": {},
     "output_type": "execute_result"
    }
   ],
   "source": [
    "np.where(pg_exec_time == np.max(pg_exec_time))"
   ]
  },
  {
   "cell_type": "code",
   "execution_count": 11,
   "id": "ce451727",
   "metadata": {},
   "outputs": [],
   "source": [
    "with open(\"/home/ubuntu/End-to-End-CardEst-Benchmark/workloads/stats_CEB/sub_plan_queries/estimates/stats_CEB_sub_queries_bayescard.txt\", \"r\") as f:\n",
    "    s = f.read()"
   ]
  },
  {
   "cell_type": "code",
   "execution_count": 13,
   "id": "13b493fe",
   "metadata": {},
   "outputs": [],
   "source": [
    "with open(\"CE_scheme_est.txt\", \"r\") as f:\n",
    "    s = f.read()"
   ]
  },
  {
   "cell_type": "code",
   "execution_count": null,
   "id": "4a754081",
   "metadata": {},
   "outputs": [],
   "source": []
  }
 ],
 "metadata": {
  "kernelspec": {
   "display_name": "Python 3",
   "language": "python",
   "name": "python3"
  },
  "language_info": {
   "codemirror_mode": {
    "name": "ipython",
    "version": 3
   },
   "file_extension": ".py",
   "mimetype": "text/x-python",
   "name": "python",
   "nbconvert_exporter": "python",
   "pygments_lexer": "ipython3",
   "version": "3.7.11"
  }
 },
 "nbformat": 4,
 "nbformat_minor": 5
}
