{
 "cells": [
  {
   "cell_type": "code",
   "execution_count": 1,
   "id": "1f724c18",
   "metadata": {},
   "outputs": [],
   "source": [
    "import pickle\n",
    "with open(\"bins.pkl\", \"rb\") as f:\n",
    "    bins = pickle.load(f)\n",
    "with open(\"equivalent_keys.pkl\", \"rb\") as f:\n",
    "    equivalent_keys = pickle.load(f)"
   ]
  },
  {
   "cell_type": "code",
   "execution_count": 2,
   "id": "1196c6b6",
   "metadata": {},
   "outputs": [
    {
     "data": {
      "text/plain": [
       "dict_keys(['kind_type.id', 'info_type.id', 'title.id', 'name.id', 'char_name.id', 'role_type.id', 'comp_cast_type.id', 'keyword.id', 'company_name.id', 'company_type.id'])"
      ]
     },
     "execution_count": 2,
     "metadata": {},
     "output_type": "execute_result"
    }
   ],
   "source": [
    "bins.keys()"
   ]
  },
  {
   "cell_type": "code",
   "execution_count": 8,
   "id": "ce7ddb0c",
   "metadata": {},
   "outputs": [
    {
     "name": "stdout",
     "output_type": "stream",
     "text": [
      "dict_keys(['kind_type.id', 'info_type.id', 'title.id', 'name.id', 'char_name.id', 'role_type.id', 'comp_cast_type.id', 'keyword.id', 'company_name.id', 'company_type.id'])\n"
     ]
    },
    {
     "data": {
      "text/plain": [
       "{'kind_type.id': {'aka_title.kind_id', 'kind_type.id', 'title.kind_id'},\n",
       " 'info_type.id': {'info_type.id',\n",
       "  'movie_info.info_type_id',\n",
       "  'movie_info_idx.info_type_id',\n",
       "  'person_info.info_type_id'},\n",
       " 'title.id': {'aka_title.movie_id',\n",
       "  'cast_info.movie_id',\n",
       "  'complete_cast.movie_id',\n",
       "  'movie_companies.movie_id',\n",
       "  'movie_info.movie_id',\n",
       "  'movie_info_idx.movie_id',\n",
       "  'movie_keyword.movie_id',\n",
       "  'title.id'},\n",
       " 'name.id': {'aka_name.person_id',\n",
       "  'cast_info.person_id',\n",
       "  'name.id',\n",
       "  'person_info.person_id'},\n",
       " 'char_name.id': {'cast_info.person_role_id', 'char_name.id'},\n",
       " 'role_type.id': {'cast_info.role_id', 'role_type.id'},\n",
       " 'comp_cast_type.id': {'comp_cast_type.id',\n",
       "  'complete_cast.status_id',\n",
       "  'complete_cast.subject_id'},\n",
       " 'keyword.id': {'keyword.id', 'movie_keyword.keyword_id'},\n",
       " 'company_name.id': {'company_name.id', 'movie_companies.company_id'},\n",
       " 'company_type.id': {'company_type.id', 'movie_companies.company_type_id'}}"
      ]
     },
     "execution_count": 8,
     "metadata": {},
     "output_type": "execute_result"
    }
   ],
   "source": [
    "# the keys of equivalent_keys are the primary keys, the items of equivalent_keys corresponding to the equivalent \n",
    "# foreign keys of this PK\n",
    "# Each equivalent key group will share the same bining.\n",
    "print(equivalent_keys.keys())\n",
    "equivalent_keys"
   ]
  },
  {
   "cell_type": "code",
   "execution_count": 10,
   "id": "4f798ce3",
   "metadata": {},
   "outputs": [
    {
     "name": "stdout",
     "output_type": "stream",
     "text": [
      "kind_type.id 8\n",
      "info_type.id 72\n",
      "title.id 74\n",
      "name.id 29\n",
      "char_name.id 28\n",
      "role_type.id 12\n",
      "comp_cast_type.id 2\n",
      "keyword.id 86\n",
      "company_name.id 75\n",
      "company_type.id 3\n"
     ]
    }
   ],
   "source": [
    "# bin sizes (this is not optimized using query workload)\n",
    "for k in bins:\n",
    "    print(k, len(bins[k]))"
   ]
  },
  {
   "cell_type": "markdown",
   "id": "31a91bd8",
   "metadata": {},
   "source": [
    "## Please note that:\n",
    "The bins are generated on a sample (1000000 rows) of the tables, so there might exist key values in the table that are not included in the bins. These values are not being sampled, suggesting that they have a low frequency of appearance.\n",
    "For the unseen value, we assume that they have frequence of 1 or 2, so we can randomly assign them in the first two bins."
   ]
  }
 ],
 "metadata": {
  "kernelspec": {
   "display_name": "Python 3",
   "language": "python",
   "name": "python3"
  },
  "language_info": {
   "codemirror_mode": {
    "name": "ipython",
    "version": 3
   },
   "file_extension": ".py",
   "mimetype": "text/x-python",
   "name": "python",
   "nbconvert_exporter": "python",
   "pygments_lexer": "ipython3",
   "version": "3.7.11"
  }
 },
 "nbformat": 4,
 "nbformat_minor": 5
}
